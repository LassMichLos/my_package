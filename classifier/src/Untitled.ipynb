{
 "cells": [
  {
   "cell_type": "code",
   "execution_count": 1,
   "id": "4b636f40-baa9-4c8b-9c23-896934790bcd",
   "metadata": {},
   "outputs": [],
   "source": [
    "from classifier import Adaboost, DecisionStump, DataVisualizer"
   ]
  },
  {
   "cell_type": "code",
   "execution_count": 2,
   "id": "29d5f6e1-bf3c-44fb-a479-ac38cb6ae3ea",
   "metadata": {},
   "outputs": [
    {
     "name": "stdout",
     "output_type": "stream",
     "text": [
      "Accuracy: 0.7640449438202247\n"
     ]
    }
   ],
   "source": [
    "from sklearn import datasets, model_selection\n",
    "import numpy as np\n",
    "\n",
    "def accuracy(y_true, y_predict):\n",
    "    accuracy = np.sum(y_true == y_predict) / len(y_true)\n",
    "    return accuracy    \n",
    "    \n",
    "data = datasets.load_digits()\n",
    "X = data.data\n",
    "y = data.target\n",
    "\n",
    "digit1 = 1\n",
    "digit2 = 8\n",
    "idx = np.append(np.where(y == digit1)[0], np.where(y == digit2)[0])\n",
    "y = data.target[idx]\n",
    "# Change labels to {-1, 1}\n",
    "y[y == digit1] = -1\n",
    "y[y == digit2] = 1\n",
    "X = data.data[idx]\n",
    "\n",
    "    \n",
    "X_train, X_test, y_train, y_test = model_selection.train_test_split(X, y, test_size=0.5, random_state = 42)\n",
    "\n",
    "# Adaboost classification with 5 weak classifiers\n",
    "clf = Adaboost()\n",
    "clf.fit(X_train, y_train)\n",
    "y_pred = clf.predict(X_test)\n",
    "\n",
    "accuracy = accuracy(y_test, y_pred)\n",
    "print (\"Accuracy:\", accuracy)"
   ]
  },
  {
   "cell_type": "code",
   "execution_count": null,
   "id": "b68d85a0-15bf-4c02-8bc9-35529f318a66",
   "metadata": {},
   "outputs": [],
   "source": []
  }
 ],
 "metadata": {
  "kernelspec": {
   "display_name": "Python 3 (ipykernel)",
   "language": "python",
   "name": "python3"
  },
  "language_info": {
   "codemirror_mode": {
    "name": "ipython",
    "version": 3
   },
   "file_extension": ".py",
   "mimetype": "text/x-python",
   "name": "python",
   "nbconvert_exporter": "python",
   "pygments_lexer": "ipython3",
   "version": "3.12.4"
  }
 },
 "nbformat": 4,
 "nbformat_minor": 5
}
